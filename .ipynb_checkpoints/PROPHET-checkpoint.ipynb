{
 "cells": [
  {
   "cell_type": "code",
   "execution_count": 6,
   "id": "abdcea7e",
   "metadata": {},
   "outputs": [],
   "source": [
    "# !pip install prophet"
   ]
  },
  {
   "cell_type": "code",
   "execution_count": 7,
   "id": "c08ec3c5",
   "metadata": {},
   "outputs": [],
   "source": [
    "import warnings; \n",
    "warnings.simplefilter('ignore')\n",
    "\n",
    "import pandas as pd\n",
    "from prophet import Prophet"
   ]
  },
  {
   "cell_type": "code",
   "execution_count": 19,
   "id": "d1035e09",
   "metadata": {},
   "outputs": [],
   "source": [
    "df = pd.read_csv('data/Prophet_Data.csv')"
   ]
  },
  {
   "cell_type": "code",
   "execution_count": 20,
   "id": "2f3316bb",
   "metadata": {
    "scrolled": true
   },
   "outputs": [
    {
     "data": {
      "text/html": [
       "<div>\n",
       "<style scoped>\n",
       "    .dataframe tbody tr th:only-of-type {\n",
       "        vertical-align: middle;\n",
       "    }\n",
       "\n",
       "    .dataframe tbody tr th {\n",
       "        vertical-align: top;\n",
       "    }\n",
       "\n",
       "    .dataframe thead th {\n",
       "        text-align: right;\n",
       "    }\n",
       "</style>\n",
       "<table border=\"1\" class=\"dataframe\">\n",
       "  <thead>\n",
       "    <tr style=\"text-align: right;\">\n",
       "      <th></th>\n",
       "      <th>Time Date</th>\n",
       "      <th>Product</th>\n",
       "      <th>Store</th>\n",
       "      <th>Value</th>\n",
       "    </tr>\n",
       "  </thead>\n",
       "  <tbody>\n",
       "    <tr>\n",
       "      <th>0</th>\n",
       "      <td>1012018</td>\n",
       "      <td>2667437</td>\n",
       "      <td>QLD_CW_ST0203</td>\n",
       "      <td>2926.000</td>\n",
       "    </tr>\n",
       "    <tr>\n",
       "      <th>1</th>\n",
       "      <td>2012018</td>\n",
       "      <td>2667437</td>\n",
       "      <td>QLD_CW_ST0203</td>\n",
       "      <td>2687.531</td>\n",
       "    </tr>\n",
       "    <tr>\n",
       "      <th>2</th>\n",
       "      <td>3012018</td>\n",
       "      <td>2667437</td>\n",
       "      <td>QLD_CW_ST0203</td>\n",
       "      <td>2793.000</td>\n",
       "    </tr>\n",
       "    <tr>\n",
       "      <th>3</th>\n",
       "      <td>4012018</td>\n",
       "      <td>2667437</td>\n",
       "      <td>QLD_CW_ST0203</td>\n",
       "      <td>2394.000</td>\n",
       "    </tr>\n",
       "    <tr>\n",
       "      <th>4</th>\n",
       "      <td>5012018</td>\n",
       "      <td>2667437</td>\n",
       "      <td>QLD_CW_ST0203</td>\n",
       "      <td>2660.000</td>\n",
       "    </tr>\n",
       "  </tbody>\n",
       "</table>\n",
       "</div>"
      ],
      "text/plain": [
       "   Time Date  Product          Store     Value\n",
       "0    1012018  2667437  QLD_CW_ST0203  2926.000\n",
       "1    2012018  2667437  QLD_CW_ST0203  2687.531\n",
       "2    3012018  2667437  QLD_CW_ST0203  2793.000\n",
       "3    4012018  2667437  QLD_CW_ST0203  2394.000\n",
       "4    5012018  2667437  QLD_CW_ST0203  2660.000"
      ]
     },
     "execution_count": 20,
     "metadata": {},
     "output_type": "execute_result"
    }
   ],
   "source": [
    "df.head()"
   ]
  },
  {
   "cell_type": "code",
   "execution_count": 21,
   "id": "0613741d",
   "metadata": {},
   "outputs": [
    {
     "data": {
      "text/plain": [
       "Index(['Time Date', 'Product', 'Store', 'Value'], dtype='object')"
      ]
     },
     "execution_count": 21,
     "metadata": {},
     "output_type": "execute_result"
    }
   ],
   "source": [
    "df.columns"
   ]
  },
  {
   "cell_type": "code",
   "execution_count": null,
   "id": "b461902f",
   "metadata": {},
   "outputs": [],
   "source": []
  }
 ],
 "metadata": {
  "kernelspec": {
   "display_name": "Python 3 (ipykernel)",
   "language": "python",
   "name": "python3"
  },
  "language_info": {
   "codemirror_mode": {
    "name": "ipython",
    "version": 3
   },
   "file_extension": ".py",
   "mimetype": "text/x-python",
   "name": "python",
   "nbconvert_exporter": "python",
   "pygments_lexer": "ipython3",
   "version": "3.11.3"
  }
 },
 "nbformat": 4,
 "nbformat_minor": 5
}
